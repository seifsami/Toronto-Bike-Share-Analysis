{
 "cells": [
  {
   "cell_type": "code",
   "execution_count": 1,
   "metadata": {},
   "outputs": [],
   "source": [
    "#Importing required libraries\n",
    "import numpy as np\n",
    "import pandas as pd\n",
    "import matplotlib.pyplot as plt\n",
    "import seaborn as sns\n",
    "import requests\n",
    "from datetime import datetime\n",
    "from selenium import webdriver\n",
    "from webdriver_manager.chrome import ChromeDriverManager\n",
    "from tqdm import tqdm_notebook as tqdmn"
   ]
  },
  {
   "cell_type": "code",
   "execution_count": null,
   "metadata": {},
   "outputs": [],
   "source": [
    "driver = webdriver.Chrome(ChromeDriverManager().install())"
   ]
  },
  {
   "cell_type": "code",
   "execution_count": 2,
   "metadata": {},
   "outputs": [],
   "source": [
    "#Files on website are split into the varios months so looping through to read them all\n",
    "df_list = []\n",
    "for i in range(1, 13):\n",
    "    if i <10:\n",
    "         df_list.append(pd.read_csv(f\"Bike share ridership 2021-0{i}.csv\",encoding='cp1252'))\n",
    "    else:\n",
    "        df_list.append(pd.read_csv(f\"Bike share ridership 2021-{i}.csv\",encoding='cp1252'))\n",
    "   \n"
   ]
  },
  {
   "cell_type": "code",
   "execution_count": 3,
   "metadata": {},
   "outputs": [],
   "source": [
    "#concatenating all data\n",
    "df = pd.concat(df_list)"
   ]
  },
  {
   "cell_type": "code",
   "execution_count": 4,
   "metadata": {},
   "outputs": [],
   "source": [
    "#Error with Trip Id first fill missing values\n",
    "df = df.rename(columns={'ï»¿Trip Id':'Trip ID 2'})\n",
    "df['Trip Id'] = df['Trip Id'].fillna(\"NEW VALUE!\")\n"
   ]
  },
  {
   "cell_type": "code",
   "execution_count": 1,
   "metadata": {
    "scrolled": true
   },
   "outputs": [],
   "source": [
    "Correcting Trip ID\n",
    "def fix_trip(ID, ID2 ):\n",
    "    if ID == \"NEW VALUE!\":\n",
    "        return ID2\n",
    "    else:\n",
    "        return ID\n",
    "        \n",
    "df['Trip Id'] = df[['Trip Id','Trip ID 2']].apply(lambda df: fix_trip(df['Trip Id'],df['Trip ID 2']),axis=1)"
   ]
  },
  {
   "cell_type": "code",
   "execution_count": null,
   "metadata": {},
   "outputs": [],
   "source": [
    "#Dropping duplicate error column\n",
    "df = df.drop(['Trip ID 2'], axis=1)"
   ]
  },
  {
   "cell_type": "code",
   "execution_count": null,
   "metadata": {},
   "outputs": [],
   "source": [
    "#Geographic data of stops seems interesting will be adding longtitude and lattitude to graph this info\n",
    "my_list = []\n",
    "for item in df['Start Station Name'].unique():\n",
    "    my_list.append(item)"
   ]
  },
  {
   "cell_type": "code",
   "execution_count": null,
   "metadata": {},
   "outputs": [],
   "source": [
    "#Simplifying dataframe for only necessary info\n",
    "df3 = df[['Start Station Name','Trip Id']]\n",
    "df3 = df3.set_index('Trip Id')"
   ]
  },
  {
   "cell_type": "code",
   "execution_count": null,
   "metadata": {},
   "outputs": [],
   "source": [
    "#For webscraping purposes removing the / between street names to avoid interfering with URL\n",
    "df3['Start Station Name']= df3['Start Station Name'].str.replace('/', 'and')"
   ]
  },
  {
   "cell_type": "code",
   "execution_count": null,
   "metadata": {},
   "outputs": [],
   "source": [
    "#Constructing URL's that we will scrape info from\n",
    "df3['Url'] = ['https://www.google.com/maps/search/' + i for i in df3['Start Station Name'] ]"
   ]
  },
  {
   "cell_type": "code",
   "execution_count": null,
   "metadata": {},
   "outputs": [],
   "source": [
    "#Many duplicate URL's in set as the stations repeat, this will reduce to only unique urls/addresses\n",
    "df3 = df3.drop_duplicates(subset=['Url'])"
   ]
  },
  {
   "cell_type": "code",
   "execution_count": null,
   "metadata": {},
   "outputs": [],
   "source": [
    "#Scraping google maps using URL's to obtain URL's including the coordinates\n",
    "Url_With_Coordinates = []\n",
    "\n",
    "option = webdriver.ChromeOptions()\n",
    "prefs = {'profile.default_content_setting_values': {'images':2, 'javascript':2}}\n",
    "option.add_experimental_option('prefs', prefs)\n",
    "\n",
    "driver = webdriver.Chrome(executable_path=\"/Users/seifwork/Desktop/chromedriver\", options=option)\n",
    "\n",
    "for url in tqdmn(df3['Url'], leave=False):\n",
    "    driver.get(url)\n",
    "    Url_With_Coordinates.append(driver.find_element_by_css_selector('meta[itemprop=image]').get_attribute('content'))\n",
    "    \n",
    "driver.close()"
   ]
  },
  {
   "cell_type": "code",
   "execution_count": null,
   "metadata": {},
   "outputs": [],
   "source": [
    "#Adding URL's with coordinates to dataframe\n",
    "df3 = df3.assign(Url_with_coordinates=Url_With_Coordinates)"
   ]
  },
  {
   "cell_type": "code",
   "execution_count": null,
   "metadata": {},
   "outputs": [],
   "source": [
    "#Creating functions that will strip only the station coordinates  from the google url both latitude and longtitude\n",
    "def lat(Url_with_coordinates):\n",
    "    return Url_with_coordinates.split('?center=')[1].split('&zoom=')[0].split('%2C')[0]\n",
    "def long(Url_with_coordinates):\n",
    "    return Url_with_coordinates.split('?center=')[1].split('&zoom=')[0].split('%2C')[1]"
   ]
  },
  {
   "cell_type": "code",
   "execution_count": null,
   "metadata": {},
   "outputs": [],
   "source": [
    "#Applying function to dataframe to create new columns with coordinates\n",
    "df4['lat'] = df4['Url_with_coordinates'].apply(lat)\n",
    "df4['long'] = df4['Url_with_coordinates'].apply(long)"
   ]
  },
  {
   "cell_type": "code",
   "execution_count": null,
   "metadata": {},
   "outputs": [],
   "source": [
    "#Combining latitude and longtitude into one column\n",
    "df3['lat and long'] = df3['lat'] +','+ df3['long']"
   ]
  },
  {
   "cell_type": "code",
   "execution_count": null,
   "metadata": {},
   "outputs": [],
   "source": [
    "#Creating a dictionary connecting station names with the latitude and longtitude\n",
    "d = dict(zip(df3['Start Station Name'], df3['lat and long']))"
   ]
  },
  {
   "cell_type": "code",
   "execution_count": null,
   "metadata": {},
   "outputs": [],
   "source": [
    "#Reassinging lat and long values for each station name based on dictionary\n",
    "df3[\"lat and long\"] = df3[\"Start Station Name\"].apply(lambda x: d.get(x))"
   ]
  },
  {
   "cell_type": "code",
   "execution_count": null,
   "metadata": {},
   "outputs": [],
   "source": [
    "#renaming to differentiate between coordinates for starting station\n",
    "df3 = df3.rename(columns={\"lat and long\": \"lat and long start\"})"
   ]
  },
  {
   "cell_type": "code",
   "execution_count": null,
   "metadata": {},
   "outputs": [],
   "source": [
    "#Repeating for end station coordinates\n",
    "df3[\"lat and long end\"] = df3[\"End Station Name\"].apply(lambda x: d.get(x))"
   ]
  },
  {
   "cell_type": "code",
   "execution_count": null,
   "metadata": {},
   "outputs": [],
   "source": [
    "#Splitting columns into separate latitude and longtitude again\n",
    "df[\"lat start\"]= df[\"lat and long start\"].str.split(\",\", n = 1, expand = False).str[0]\n",
    "df[\"long start\"]= df[\"lat and long start\"].str.split(\",\", n = 1, expand = False).str[1]\n",
    "df[\"lat end\"]= df[\"lat and long end\"].str.split(\",\", n = 1, expand = False).str[0]\n",
    "df[\"long end\"]= df[\"lat and long end\"].str.split(\",\", n = 1, expand = False).str[1]"
   ]
  },
  {
   "cell_type": "code",
   "execution_count": null,
   "metadata": {},
   "outputs": [],
   "source": [
    "#Dropping unnecessary columns \n",
    "df = df.drop(['lat and long start', 'lat and long end'], axis=1)"
   ]
  },
  {
   "cell_type": "code",
   "execution_count": null,
   "metadata": {},
   "outputs": [],
   "source": [
    "#Exporting to csv to import into Tableau\n",
    "df3.to_csv('combined_bikeshare-.csv',index=False)"
   ]
  },
  {
   "cell_type": "markdown",
   "metadata": {},
   "source": [
    "**Now that the data has been cleaned and coordinate info added we can import this into Tableau for analysis and visualization**\n",
    "\n"
   ]
  },
  {
   "cell_type": "code",
   "execution_count": null,
   "metadata": {},
   "outputs": [],
   "source": []
  },
  {
   "cell_type": "code",
   "execution_count": null,
   "metadata": {},
   "outputs": [],
   "source": []
  },
  {
   "cell_type": "code",
   "execution_count": null,
   "metadata": {},
   "outputs": [],
   "source": []
  },
  {
   "cell_type": "code",
   "execution_count": null,
   "metadata": {},
   "outputs": [],
   "source": [
    "\n"
   ]
  },
  {
   "cell_type": "code",
   "execution_count": null,
   "metadata": {},
   "outputs": [],
   "source": []
  },
  {
   "cell_type": "code",
   "execution_count": null,
   "metadata": {},
   "outputs": [],
   "source": [
    "\n"
   ]
  },
  {
   "cell_type": "code",
   "execution_count": null,
   "metadata": {},
   "outputs": [],
   "source": []
  },
  {
   "cell_type": "code",
   "execution_count": null,
   "metadata": {},
   "outputs": [],
   "source": []
  },
  {
   "cell_type": "code",
   "execution_count": null,
   "metadata": {},
   "outputs": [],
   "source": []
  },
  {
   "cell_type": "code",
   "execution_count": null,
   "metadata": {},
   "outputs": [],
   "source": []
  },
  {
   "cell_type": "code",
   "execution_count": null,
   "metadata": {},
   "outputs": [],
   "source": []
  },
  {
   "cell_type": "code",
   "execution_count": null,
   "metadata": {},
   "outputs": [],
   "source": []
  },
  {
   "cell_type": "code",
   "execution_count": null,
   "metadata": {},
   "outputs": [],
   "source": []
  },
  {
   "cell_type": "code",
   "execution_count": null,
   "metadata": {},
   "outputs": [],
   "source": []
  },
  {
   "cell_type": "code",
   "execution_count": null,
   "metadata": {},
   "outputs": [],
   "source": []
  },
  {
   "cell_type": "code",
   "execution_count": null,
   "metadata": {},
   "outputs": [],
   "source": []
  },
  {
   "cell_type": "code",
   "execution_count": null,
   "metadata": {},
   "outputs": [],
   "source": []
  },
  {
   "cell_type": "code",
   "execution_count": null,
   "metadata": {},
   "outputs": [],
   "source": []
  },
  {
   "cell_type": "code",
   "execution_count": null,
   "metadata": {},
   "outputs": [],
   "source": []
  }
 ],
 "metadata": {
  "kernelspec": {
   "display_name": "Python 3 (ipykernel)",
   "language": "python",
   "name": "python3"
  },
  "language_info": {
   "codemirror_mode": {
    "name": "ipython",
    "version": 3
   },
   "file_extension": ".py",
   "mimetype": "text/x-python",
   "name": "python",
   "nbconvert_exporter": "python",
   "pygments_lexer": "ipython3",
   "version": "3.9.12"
  }
 },
 "nbformat": 4,
 "nbformat_minor": 4
}
